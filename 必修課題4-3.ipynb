{
 "cells": [
  {
   "cell_type": "code",
   "execution_count": 8,
   "metadata": {},
   "outputs": [
    {
     "name": "stdout",
     "output_type": "stream",
     "text": [
      "解析解は\n",
      "0.6088168205732202\n",
      "長方形近似は\n",
      "0.6070086166324656\n",
      "台形近似は\n",
      "0.6070086166324654\n"
     ]
    }
   ],
   "source": [
    "import math\n",
    "c=0\n",
    "def integral(a,b):\n",
    "    return ((-20*math.exp(-0.05*b)*math.sin(b)-400*math.exp(-0.05*b)*math.cos(b))-(-20*math.exp(-0.05*a)*math.sin(a)-400*math.exp(-0.05*a*math.cos(a))))/401\n",
    "def dec(x):\n",
    "    return math.exp(-0.05*x)*math.sin(x)\n",
    "def dx(a,b,n):\n",
    "    return (b-a)/n\n",
    "def ret(f,n,a,b):\n",
    "    c=0\n",
    "    for i in range(n):\n",
    "       c=c+f(a+i*dx(a,b,n))*dx(a,b,n) \n",
    "    return c\n",
    "def tra(f,n,a,b):\n",
    "    c=0\n",
    "    for i in range(n):\n",
    "       c=c+(f(a+i*dx(a,b,n))+f(a+(i+1)*dx(a,b,n)))*dx(a,b,n)/2\n",
    "    return c\n",
    "print('解析解は')\n",
    "print(integral(0,6*math.pi))\n",
    "print('長方形近似は')\n",
    "print(ret(dec,100,0,6*math.pi))\n",
    "print('台形近似は')\n",
    "print(tra(dec,100,0,6*math.pi))"
   ]
  }
 ],
 "metadata": {
  "kernelspec": {
   "display_name": "Python 3",
   "language": "python",
   "name": "python3"
  },
  "language_info": {
   "codemirror_mode": {
    "name": "ipython",
    "version": 3
   },
   "file_extension": ".py",
   "mimetype": "text/x-python",
   "name": "python",
   "nbconvert_exporter": "python",
   "pygments_lexer": "ipython3",
   "version": "3.12.7"
  }
 },
 "nbformat": 4,
 "nbformat_minor": 2
}
