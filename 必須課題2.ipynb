{
 "cells": [
  {
   "cell_type": "code",
   "execution_count": 6,
   "metadata": {},
   "outputs": [
    {
     "name": "stdout",
     "output_type": "stream",
     "text": [
      "0.41421356237309515\n",
      "0.4142135623730951\n",
      "ライプニッツの公式による結果\n",
      "3.0418396189294032\n",
      "ラマヌジャンの公式による結果\n",
      "3.141592653589793\n"
     ]
    }
   ],
   "source": [
    "import math\n",
    "a_1=1\n",
    "print(math.sqrt(1+a_1)-1)\n",
    "\n",
    "print(a_1/(math.sqrt(1+a_1)+1))\n",
    "a=0.0\n",
    "for i in range (10):\n",
    "    a=a+((-1)**i)/(2*i+1)   #ライプニッツ公式の公式 +for文によるΣ記号の繰り返し\n",
    "print(\"ライプニッツの公式による結果\")\n",
    "print(4*a)\n",
    "\n",
    "b=0.0\n",
    "for i in range(10):\n",
    "    b=b+2*math.sqrt(2)/(99**2)*(math.factorial(4*i))/((math.factorial(i))**4)*(26390*i+1103)/(396**(4*i))                #：math.factorial()（階乗）\n",
    "print(\"ラマヌジャンの公式による結果\")    #• 例：math.sqrt()（平方根）\n",
    "print(1/b)"
   ]
  },
  {
   "cell_type": "markdown",
   "metadata": {},
   "source": []
  }
 ],
 "metadata": {
  "kernelspec": {
   "display_name": "Python 3",
   "language": "python",
   "name": "python3"
  },
  "language_info": {
   "codemirror_mode": {
    "name": "ipython",
    "version": 3
   },
   "file_extension": ".py",
   "mimetype": "text/x-python",
   "name": "python",
   "nbconvert_exporter": "python",
   "pygments_lexer": "ipython3",
   "version": "3.12.7"
  }
 },
 "nbformat": 4,
 "nbformat_minor": 2
}
