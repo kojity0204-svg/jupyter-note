{
 "cells": [
  {
   "cell_type": "markdown",
   "metadata": {},
   "source": [
    "オプション課題のcodeです\n"
   ]
  },
  {
   "cell_type": "code",
   "execution_count": 43,
   "metadata": {},
   "outputs": [
    {
     "name": "stdout",
     "output_type": "stream",
     "text": [
      "試行回数は\n",
      "3\n",
      "値は\n",
      "3.141592653589793\n",
      "必須課題２の答えは\n",
      "0.0\n"
     ]
    }
   ],
   "source": [
    "import math\n",
    "a=0.0\n",
    "b=0.0\n",
    "n=0\n",
    "dif=0\n",
    "while (n<30):\n",
    "    b=b+12*((-1)**n)*(math.factorial(6*n))/((math.factorial(3*n)*(math.factorial(n)**3)))*(545140134*n+13591409)/(640320**(3*n+1)*math.sqrt(640320))\n",
    "    n=n+1\n",
    "    dif=b**(-1)-math.pi                         #ここから3行は差の絶対値の設定\n",
    "    if(dif<0):\n",
    "        dif=-dif\n",
    "    if(dif<10**(-14)):                          #倍精度の有効数字は14桁であるため、e-14で打消し\n",
    "        break\n",
    "\n",
    "print(\"試行回数は\")\n",
    "print(n+1)\n",
    "\n",
    "print(\"値は\")\n",
    "print(b**-1)\n",
    "\n",
    "                                                #ベイリーの式を吐き出した桁で吐き出すために4で割ってあまりを求めてその桁が一桁目にきてその項のみが残るように作ったのですができませんでした                                           \n",
    "i=6\n",
    "n_0=(i-1)//4\n",
    "n_1=i-4*n_0\n",
    "d=4*((4/(8*n_0+1))-(2/(8*n_0+4))-(1/(8*n_0+5))-(1/(8*n_0+6)))\n",
    "e=d//(2**(4-n_1))\n",
    "print(\"必須課題２の答えは\")\n",
    "print(e)\n",
    "\n",
    "\n",
    "\n",
    "\n",
    "\n",
    "\n",
    "\n"
   ]
  }
 ],
 "metadata": {
  "kernelspec": {
   "display_name": "Python 3",
   "language": "python",
   "name": "python3"
  },
  "language_info": {
   "codemirror_mode": {
    "name": "ipython",
    "version": 3
   },
   "file_extension": ".py",
   "mimetype": "text/x-python",
   "name": "python",
   "nbconvert_exporter": "python",
   "pygments_lexer": "ipython3",
   "version": "3.12.7"
  }
 },
 "nbformat": 4,
 "nbformat_minor": 2
}
