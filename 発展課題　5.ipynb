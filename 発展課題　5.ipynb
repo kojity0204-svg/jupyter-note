{
 "cells": [
  {
   "cell_type": "code",
   "execution_count": null,
   "metadata": {},
   "outputs": [
    {
     "name": "stdout",
     "output_type": "stream",
     "text": [
      "6.283185307179586\n",
      "0.0\n"
     ]
    }
   ],
   "source": [
    "import math\n",
    "def f1 (x):\n",
    "    return math.sin(x)\n",
    "def f2(x):\n",
    "    return math.cos(x)\n",
    "def dic(f,a,b,m):\n",
    "    x_positive=b\n",
    "    x_negative=a\n",
    "    for i in range(m):\n",
    "        c=(x_negative+x_positive)/2\n",
    "        if f(c)<0:\n",
    "            x_negative=c\n",
    "        elif(f(c)>0): \n",
    "            x_positive=c\n",
    "    return c\n",
    "\n",
    "def newto(f,f_1,a,m):\n",
    "    c=a\n",
    "    for i in range(m):\n",
    "        c=c-f(c)/f_1(c)\n",
    "    return c\n",
    "\n",
    "print(dic(f1,1,100,100))\n",
    "print(newto(f1,f2,1,100))\n"
   ]
  }
 ],
 "metadata": {
  "kernelspec": {
   "display_name": "Python 3",
   "language": "python",
   "name": "python3"
  },
  "language_info": {
   "codemirror_mode": {
    "name": "ipython",
    "version": 3
   },
   "file_extension": ".py",
   "mimetype": "text/x-python",
   "name": "python",
   "nbconvert_exporter": "python",
   "pygments_lexer": "ipython3",
   "version": "3.12.7"
  }
 },
 "nbformat": 4,
 "nbformat_minor": 2
}
